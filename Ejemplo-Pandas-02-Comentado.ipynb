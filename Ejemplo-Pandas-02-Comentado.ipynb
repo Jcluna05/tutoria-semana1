{
 "cells": [
  {
   "cell_type": "code",
   "execution_count": null,
   "id": "b2ac8d99-c1ac-4224-93e8-c7702942ff2e",
   "metadata": {},
   "outputs": [],
   "source": [
    "# Importación de librerías necesarias para análisis de datos y visualización\n",
    "\n",
    "import pandas as pd  # Librería principal para manipulación de datos tabulares\n",
    "import sys           # Permite acceder a funciones del sistema (no se usa explícitamente en este código)\n",
    "import datetime as dt  # Sirve para manejar fechas (no se utiliza en este ejemplo)\n",
    "import numpy as np   # Útil para cálculos numéricos avanzados (no se utiliza en este ejemplo)\n",
    "import matplotlib.pyplot as plt  # Usada para generar gráficos\n",
    "import matplotlib     # Complementa funciones de configuración de gráficos\n",
    "\n",
    "# Hace que los gráficos se muestren directamente en el notebook (modo interactivo)\n",
    "%matplotlib inline\n"
   ]
  },
  {
   "cell_type": "code",
   "execution_count": null,
   "id": "37321f02-97e4-481f-8bee-bff63250b3d8",
   "metadata": {},
   "outputs": [],
   "source": [
    "# Instalación de la librería 'xlrd' para poder leer archivos Excel antiguos (.xls)\n",
    "!pip install xlrd"
   ]
  },
  {
   "cell_type": "code",
   "execution_count": null,
   "id": "68409f48-321b-492b-a020-b114461ade44",
   "metadata": {},
   "outputs": [],
   "source": [
    "# Leemos el archivo Excel ubicado en la carpeta 'data', llamado 'data-uno.xls'\n",
    "# Usamos la primera fila como encabezado por defecto\n",
    "mi_df = pd.read_excel('data/data-uno.xls')\n",
    "\n",
    "# Mostramos el contenido del DataFrame leído\n",
    "mi_df"
   ]
  },
  {
   "cell_type": "code",
   "execution_count": null,
   "id": "33bceb95-1d3a-4470-9bac-bd1237dea153",
   "metadata": {},
   "outputs": [],
   "source": [
    "# Volvemos a leer el archivo Excel, esta vez indicando que no utilice encabezado del archivo original\n",
    "# En su lugar, asignamos nombres personalizados a las columnas: 'v1', 'v2', 'v3'\n",
    "mi_df = pd.read_excel('data/data-uno.xls', header=None, names=[\"v1\", \"v2\", \"v3\"])\n",
    "\n",
    "# Mostramos el nuevo DataFrame con nombres de columnas personalizados\n",
    "mi_df\n"
   ]
  },
  {
   "cell_type": "code",
   "execution_count": null,
   "id": "12fbf217-0af9-4ba7-9666-32062c330ee3",
   "metadata": {},
   "outputs": [],
   "source": []
  }
 ],
 "metadata": {
  "kernelspec": {
   "display_name": "Python 3 (ipykernel)",
   "language": "python",
   "name": "python3"
  },
  "language_info": {
   "codemirror_mode": {
    "name": "ipython",
    "version": 3
   },
   "file_extension": ".py",
   "mimetype": "text/x-python",
   "name": "python",
   "nbconvert_exporter": "python",
   "pygments_lexer": "ipython3",
   "version": "3.12.5"
  }
 },
 "nbformat": 4,
 "nbformat_minor": 5
}
