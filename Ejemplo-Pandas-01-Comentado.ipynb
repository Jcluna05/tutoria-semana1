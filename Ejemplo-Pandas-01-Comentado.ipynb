{
 "cells": [
  {
   "cell_type": "code",
   "execution_count": null,
   "id": "de095ba3",
   "metadata": {},
   "outputs": [],
   "source": [
    "# Instala la librería matplotlib si no está instalada\n",
    "!pip install matplotlib"
   ]
  },
  {
   "cell_type": "code",
   "execution_count": null,
   "id": "fdfef038",
   "metadata": {},
   "outputs": [],
   "source": [
    "# Importación de librerías necesarias para el análisis de datos y visualización\\import pandas as pd\n",
    "import sys  # No se usa explícitamente\n",
    "import datetime as dt  # No se usa explícitamente\n",
    "import numpy as np  # No se usa explícitamente\n",
    "import matplotlib.pyplot as plt\n",
    "import matplotlib\n",
    "\n",
    "# Habilita que las gráficas se vean dentro del notebook\n",
    "%matplotlib inline"
   ]
  },
  {
   "cell_type": "code",
   "execution_count": null,
   "id": "547bdba0",
   "metadata": {},
   "outputs": [],
   "source": [
    "# Crear un DataFrame simple con columnas 'a' y 'b'\n",
    "mi_df = pd.DataFrame({'a': [11, 12, 13], 'b': [21, 22, 23]})\n",
    "print(mi_df)"
   ]
  },
  {
   "cell_type": "code",
   "execution_count": null,
   "id": "9b2de635",
   "metadata": {},
   "outputs": [],
   "source": [
    "# Crear un DataFrame desde un diccionario\n",
    "# Contiene información de ciudades, capitales y zonas\n",
    "data = {'ciudad': ['Loja', 'Pichincha', 'Guayas'],\n",
    "        'capital' : ['Loja', 'Quito', 'Guayaquil'],\n",
    "        'zona'  : [7, 8, 1]}\n",
    "frame = pd.DataFrame(data)\n",
    "frame"
   ]
  },
  {
   "cell_type": "code",
   "execution_count": null,
   "id": "e0ad8db4",
   "metadata": {},
   "outputs": [],
   "source": [
    "# Definir una lista con nombres de columnas para futuros DataFrames\n",
    "columnas = ['nombres','apellidos','cedula']"
   ]
  },
  {
   "cell_type": "code",
   "execution_count": null,
   "id": "a2487c23",
   "metadata": {},
   "outputs": [],
   "source": [
    "# Lista de datos con nombres, apellidos y cédulas\n",
    "lista = [['rene', 'elizalde', '11041260'],\n",
    "        ['rolando', 'solano', '11041261'],]"
   ]
  },
  {
   "cell_type": "code",
   "execution_count": null,
   "id": "395de0a6",
   "metadata": {},
   "outputs": [],
   "source": [
    "# Crear un DataFrame con los datos de la lista y las columnas definidas\n",
    "data = pd.DataFrame(lista, columns=columnas)"
   ]
  },
  {
   "cell_type": "code",
   "execution_count": null,
   "id": "82df2d47",
   "metadata": {},
   "outputs": [],
   "source": [
    "# Mostrar el DataFrame creado\n",
    "data"
   ]
  },
  {
   "cell_type": "code",
   "execution_count": null,
   "id": "3b740b67",
   "metadata": {},
   "outputs": [],
   "source": [
    "# Crear otra lista con más datos similares\n",
    "lista2 = [['rene2', 'elizalde2', '11041263'],\n",
    "        ['rolando2', 'solano2', '11041264'],]"
   ]
  },
  {
   "cell_type": "code",
   "execution_count": null,
   "id": "e9da1b9b",
   "metadata": {},
   "outputs": [],
   "source": [
    "# Crear otro DataFrame con la segunda lista\n",
    "data2 = pd.DataFrame(lista2, columns=columnas)"
   ]
  },
  {
   "cell_type": "code",
   "execution_count": null,
   "id": "caa2523f",
   "metadata": {},
   "outputs": [],
   "source": [
    "# Mostrar el segundo DataFrame\n",
    "data2"
   ]
  },
  {
   "cell_type": "code",
   "execution_count": null,
   "id": "acb29ee7",
   "metadata": {},
   "outputs": [],
   "source": [
    "# Unir ambos DataFrames (uno debajo del otro)\n",
    "data3 = pd.concat([data, data2])"
   ]
  },
  {
   "cell_type": "code",
   "execution_count": null,
   "id": "188be884",
   "metadata": {},
   "outputs": [],
   "source": [
    "# Mostrar el DataFrame combinado\n",
    "data3"
   ]
  },
  {
   "cell_type": "code",
   "execution_count": null,
   "id": "6427bd8a",
   "metadata": {},
   "outputs": [],
   "source": [
    "# Crear un DataFrame adicional con datos geográficos asociados a las cédulas\n",
    "data5 = pd.DataFrame({'cedula': ['11041260', '11041261', '11041263', '11041266'],\n",
    " \t'Ciudad': ['Guayaquil', 'Cuenca', 'Quito', 'Loja'],\n",
    "\t'Provincia': ['Guayas', 'Azuay', 'Pichincha', 'Loja']})"
   ]
  },
  {
   "cell_type": "code",
   "execution_count": null,
   "id": "b4dc28b1",
   "metadata": {},
   "outputs": [],
   "source": [
    "# Mostrar el DataFrame con ubicación\n",
    "data5"
   ]
  },
  {
   "cell_type": "code",
   "execution_count": null,
   "id": "737428b8",
   "metadata": {},
   "outputs": [],
   "source": [
    "# Fusionar los DataFrames por la columna 'cedula'\n",
    "result = pd.merge(data3, data5, on='cedula')"
   ]
  },
  {
   "cell_type": "code",
   "execution_count": null,
   "id": "bb5b3d74",
   "metadata": {},
   "outputs": [],
   "source": [
    "# Mostrar el resultado de la fusión\n",
    "result"
   ]
  },
  {
   "cell_type": "code",
   "execution_count": null,
   "id": "9a74ac99",
   "metadata": {},
   "outputs": [],
   "source": [
    "# Crear un nuevo DataFrame geográfico (más reducido que data5)\n",
    "data6 = pd.DataFrame({'cedula': ['11041260', '11041261', '11041263'],\n",
    " \t'Ciudad': ['Guayaquil', 'Cuenca', 'Quito'],\n",
    "\t'Provincia': ['Guayas', 'Azuay', 'Pichincha']})\n",
    "data6"
   ]
  }
 ],
 "metadata": {},
 "nbformat": 4,
 "nbformat_minor": 5
}
