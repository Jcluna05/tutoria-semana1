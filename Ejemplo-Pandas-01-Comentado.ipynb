{
 "cells": [
  {
   "cell_type": "code",
   "execution_count": 1,
   "id": "de095ba3",
   "metadata": {},
   "outputs": [
    {
     "name": "stdout",
     "output_type": "stream",
     "text": [
      "Requirement already satisfied: matplotlib in /Library/Frameworks/Python.framework/Versions/3.13/lib/python3.13/site-packages (3.10.3)\n",
      "Requirement already satisfied: contourpy>=1.0.1 in /Library/Frameworks/Python.framework/Versions/3.13/lib/python3.13/site-packages (from matplotlib) (1.3.2)\n",
      "Requirement already satisfied: cycler>=0.10 in /Library/Frameworks/Python.framework/Versions/3.13/lib/python3.13/site-packages (from matplotlib) (0.12.1)\n",
      "Requirement already satisfied: fonttools>=4.22.0 in /Library/Frameworks/Python.framework/Versions/3.13/lib/python3.13/site-packages (from matplotlib) (4.58.0)\n",
      "Requirement already satisfied: kiwisolver>=1.3.1 in /Library/Frameworks/Python.framework/Versions/3.13/lib/python3.13/site-packages (from matplotlib) (1.4.8)\n",
      "Requirement already satisfied: numpy>=1.23 in /Library/Frameworks/Python.framework/Versions/3.13/lib/python3.13/site-packages (from matplotlib) (2.2.6)\n",
      "Requirement already satisfied: packaging>=20.0 in /Library/Frameworks/Python.framework/Versions/3.13/lib/python3.13/site-packages (from matplotlib) (25.0)\n",
      "Requirement already satisfied: pillow>=8 in /Library/Frameworks/Python.framework/Versions/3.13/lib/python3.13/site-packages (from matplotlib) (11.2.1)\n",
      "Requirement already satisfied: pyparsing>=2.3.1 in /Library/Frameworks/Python.framework/Versions/3.13/lib/python3.13/site-packages (from matplotlib) (3.2.3)\n",
      "Requirement already satisfied: python-dateutil>=2.7 in /Library/Frameworks/Python.framework/Versions/3.13/lib/python3.13/site-packages (from matplotlib) (2.9.0.post0)\n",
      "Requirement already satisfied: six>=1.5 in /Library/Frameworks/Python.framework/Versions/3.13/lib/python3.13/site-packages (from python-dateutil>=2.7->matplotlib) (1.17.0)\n",
      "\n",
      "\u001B[1m[\u001B[0m\u001B[34;49mnotice\u001B[0m\u001B[1;39;49m]\u001B[0m\u001B[39;49m A new release of pip is available: \u001B[0m\u001B[31;49m25.0.1\u001B[0m\u001B[39;49m -> \u001B[0m\u001B[32;49m25.1.1\u001B[0m\n",
      "\u001B[1m[\u001B[0m\u001B[34;49mnotice\u001B[0m\u001B[1;39;49m]\u001B[0m\u001B[39;49m To update, run: \u001B[0m\u001B[32;49mpip3 install --upgrade pip\u001B[0m\n"
     ]
    }
   ],
   "source": [
    "# Instala la librería matplotlib si no está instalada\n",
    "!pip3 install matplotlib"
   ]
  },
  {
   "cell_type": "code",
   "execution_count": 3,
   "id": "fdfef038",
   "metadata": {},
   "outputs": [],
   "source": [
    "# Importación de librerías necesarias para el análisis de datos y visualización\\import pandas as pd\n",
    "import sys  # No se usa explícitamente\n",
    "import datetime as dt  # No se usa explícitamente\n",
    "import numpy as np  # No se usa explícitamente\n",
    "import matplotlib.pyplot as plt\n",
    "import matplotlib\n",
    "import pandas as pd\n",
    "\n",
    "# Habilita que las gráficas se vean dentro del notebook\n",
    "%matplotlib inline"
   ]
  },
  {
   "cell_type": "code",
   "execution_count": 4,
   "id": "547bdba0",
   "metadata": {},
   "outputs": [
    {
     "name": "stdout",
     "output_type": "stream",
     "text": [
      "    a   b\n",
      "0  11  21\n",
      "1  12  22\n",
      "2  13  23\n"
     ]
    }
   ],
   "source": [
    "# Crear un DataFrame simple con columnas 'a' y 'b'\n",
    "mi_df = pd.DataFrame({'a': [11, 12, 13], 'b': [21, 22, 23]})\n",
    "print(mi_df)"
   ]
  },
  {
   "cell_type": "code",
   "execution_count": 5,
   "id": "9b2de635",
   "metadata": {},
   "outputs": [
    {
     "data": {
      "text/html": [
       "<div>\n",
       "<style scoped>\n",
       "    .dataframe tbody tr th:only-of-type {\n",
       "        vertical-align: middle;\n",
       "    }\n",
       "\n",
       "    .dataframe tbody tr th {\n",
       "        vertical-align: top;\n",
       "    }\n",
       "\n",
       "    .dataframe thead th {\n",
       "        text-align: right;\n",
       "    }\n",
       "</style>\n",
       "<table border=\"1\" class=\"dataframe\">\n",
       "  <thead>\n",
       "    <tr style=\"text-align: right;\">\n",
       "      <th></th>\n",
       "      <th>ciudad</th>\n",
       "      <th>capital</th>\n",
       "      <th>zona</th>\n",
       "    </tr>\n",
       "  </thead>\n",
       "  <tbody>\n",
       "    <tr>\n",
       "      <th>0</th>\n",
       "      <td>Loja</td>\n",
       "      <td>Loja</td>\n",
       "      <td>7</td>\n",
       "    </tr>\n",
       "    <tr>\n",
       "      <th>1</th>\n",
       "      <td>Pichincha</td>\n",
       "      <td>Quito</td>\n",
       "      <td>8</td>\n",
       "    </tr>\n",
       "    <tr>\n",
       "      <th>2</th>\n",
       "      <td>Guayas</td>\n",
       "      <td>Guayaquil</td>\n",
       "      <td>1</td>\n",
       "    </tr>\n",
       "  </tbody>\n",
       "</table>\n",
       "</div>"
      ],
      "text/plain": [
       "      ciudad    capital  zona\n",
       "0       Loja       Loja     7\n",
       "1  Pichincha      Quito     8\n",
       "2     Guayas  Guayaquil     1"
      ]
     },
     "execution_count": 5,
     "metadata": {},
     "output_type": "execute_result"
    }
   ],
   "source": [
    "# Crear un DataFrame desde un diccionario\n",
    "# Contiene información de ciudades, capitales y zonas\n",
    "data = {'ciudad': ['Loja', 'Pichincha', 'Guayas'],\n",
    "        'capital' : ['Loja', 'Quito', 'Guayaquil'],\n",
    "        'zona'  : [7, 8, 1]}\n",
    "frame = pd.DataFrame(data)\n",
    "frame"
   ]
  },
  {
   "cell_type": "code",
   "execution_count": 6,
   "id": "e0ad8db4",
   "metadata": {},
   "outputs": [],
   "source": [
    "# Definir una lista con nombres de columnas para futuros DataFrames\n",
    "columnas = ['nombres','apellidos','cedula']"
   ]
  },
  {
   "cell_type": "code",
   "execution_count": 7,
   "id": "a2487c23",
   "metadata": {},
   "outputs": [],
   "source": [
    "# Lista de datos con nombres, apellidos y cédulas\n",
    "lista = [['rene', 'elizalde', '11041260'],\n",
    "        ['rolando', 'solano', '11041261'],]"
   ]
  },
  {
   "cell_type": "code",
   "execution_count": 8,
   "id": "395de0a6",
   "metadata": {},
   "outputs": [],
   "source": [
    "# Crear un DataFrame con los datos de la lista y las columnas definidas\n",
    "data = pd.DataFrame(lista, columns=columnas)"
   ]
  },
  {
   "cell_type": "code",
   "execution_count": 9,
   "id": "82df2d47",
   "metadata": {},
   "outputs": [
    {
     "data": {
      "text/html": [
       "<div>\n",
       "<style scoped>\n",
       "    .dataframe tbody tr th:only-of-type {\n",
       "        vertical-align: middle;\n",
       "    }\n",
       "\n",
       "    .dataframe tbody tr th {\n",
       "        vertical-align: top;\n",
       "    }\n",
       "\n",
       "    .dataframe thead th {\n",
       "        text-align: right;\n",
       "    }\n",
       "</style>\n",
       "<table border=\"1\" class=\"dataframe\">\n",
       "  <thead>\n",
       "    <tr style=\"text-align: right;\">\n",
       "      <th></th>\n",
       "      <th>nombres</th>\n",
       "      <th>apellidos</th>\n",
       "      <th>cedula</th>\n",
       "    </tr>\n",
       "  </thead>\n",
       "  <tbody>\n",
       "    <tr>\n",
       "      <th>0</th>\n",
       "      <td>rene</td>\n",
       "      <td>elizalde</td>\n",
       "      <td>11041260</td>\n",
       "    </tr>\n",
       "    <tr>\n",
       "      <th>1</th>\n",
       "      <td>rolando</td>\n",
       "      <td>solano</td>\n",
       "      <td>11041261</td>\n",
       "    </tr>\n",
       "  </tbody>\n",
       "</table>\n",
       "</div>"
      ],
      "text/plain": [
       "   nombres apellidos    cedula\n",
       "0     rene  elizalde  11041260\n",
       "1  rolando    solano  11041261"
      ]
     },
     "execution_count": 9,
     "metadata": {},
     "output_type": "execute_result"
    }
   ],
   "source": [
    "# Mostrar el DataFrame creado\n",
    "data"
   ]
  },
  {
   "cell_type": "code",
   "execution_count": 10,
   "id": "3b740b67",
   "metadata": {},
   "outputs": [],
   "source": [
    "# Crear otra lista con más datos similares\n",
    "lista2 = [['rene2', 'elizalde2', '11041263'],\n",
    "        ['rolando2', 'solano2', '11041264'],]"
   ]
  },
  {
   "cell_type": "code",
   "execution_count": 11,
   "id": "e9da1b9b",
   "metadata": {},
   "outputs": [],
   "source": [
    "# Crear otro DataFrame con la segunda lista\n",
    "data2 = pd.DataFrame(lista2, columns=columnas)"
   ]
  },
  {
   "cell_type": "code",
   "execution_count": 12,
   "id": "caa2523f",
   "metadata": {},
   "outputs": [
    {
     "data": {
      "text/html": [
       "<div>\n",
       "<style scoped>\n",
       "    .dataframe tbody tr th:only-of-type {\n",
       "        vertical-align: middle;\n",
       "    }\n",
       "\n",
       "    .dataframe tbody tr th {\n",
       "        vertical-align: top;\n",
       "    }\n",
       "\n",
       "    .dataframe thead th {\n",
       "        text-align: right;\n",
       "    }\n",
       "</style>\n",
       "<table border=\"1\" class=\"dataframe\">\n",
       "  <thead>\n",
       "    <tr style=\"text-align: right;\">\n",
       "      <th></th>\n",
       "      <th>nombres</th>\n",
       "      <th>apellidos</th>\n",
       "      <th>cedula</th>\n",
       "    </tr>\n",
       "  </thead>\n",
       "  <tbody>\n",
       "    <tr>\n",
       "      <th>0</th>\n",
       "      <td>rene2</td>\n",
       "      <td>elizalde2</td>\n",
       "      <td>11041263</td>\n",
       "    </tr>\n",
       "    <tr>\n",
       "      <th>1</th>\n",
       "      <td>rolando2</td>\n",
       "      <td>solano2</td>\n",
       "      <td>11041264</td>\n",
       "    </tr>\n",
       "  </tbody>\n",
       "</table>\n",
       "</div>"
      ],
      "text/plain": [
       "    nombres  apellidos    cedula\n",
       "0     rene2  elizalde2  11041263\n",
       "1  rolando2    solano2  11041264"
      ]
     },
     "execution_count": 12,
     "metadata": {},
     "output_type": "execute_result"
    }
   ],
   "source": [
    "# Mostrar el segundo DataFrame\n",
    "data2"
   ]
  },
  {
   "cell_type": "code",
   "execution_count": 13,
   "id": "acb29ee7",
   "metadata": {},
   "outputs": [],
   "source": [
    "# Unir ambos DataFrames (uno debajo del otro)\n",
    "data3 = pd.concat([data, data2])"
   ]
  },
  {
   "cell_type": "code",
   "execution_count": 14,
   "id": "188be884",
   "metadata": {},
   "outputs": [
    {
     "data": {
      "text/html": [
       "<div>\n",
       "<style scoped>\n",
       "    .dataframe tbody tr th:only-of-type {\n",
       "        vertical-align: middle;\n",
       "    }\n",
       "\n",
       "    .dataframe tbody tr th {\n",
       "        vertical-align: top;\n",
       "    }\n",
       "\n",
       "    .dataframe thead th {\n",
       "        text-align: right;\n",
       "    }\n",
       "</style>\n",
       "<table border=\"1\" class=\"dataframe\">\n",
       "  <thead>\n",
       "    <tr style=\"text-align: right;\">\n",
       "      <th></th>\n",
       "      <th>nombres</th>\n",
       "      <th>apellidos</th>\n",
       "      <th>cedula</th>\n",
       "    </tr>\n",
       "  </thead>\n",
       "  <tbody>\n",
       "    <tr>\n",
       "      <th>0</th>\n",
       "      <td>rene</td>\n",
       "      <td>elizalde</td>\n",
       "      <td>11041260</td>\n",
       "    </tr>\n",
       "    <tr>\n",
       "      <th>1</th>\n",
       "      <td>rolando</td>\n",
       "      <td>solano</td>\n",
       "      <td>11041261</td>\n",
       "    </tr>\n",
       "    <tr>\n",
       "      <th>0</th>\n",
       "      <td>rene2</td>\n",
       "      <td>elizalde2</td>\n",
       "      <td>11041263</td>\n",
       "    </tr>\n",
       "    <tr>\n",
       "      <th>1</th>\n",
       "      <td>rolando2</td>\n",
       "      <td>solano2</td>\n",
       "      <td>11041264</td>\n",
       "    </tr>\n",
       "  </tbody>\n",
       "</table>\n",
       "</div>"
      ],
      "text/plain": [
       "    nombres  apellidos    cedula\n",
       "0      rene   elizalde  11041260\n",
       "1   rolando     solano  11041261\n",
       "0     rene2  elizalde2  11041263\n",
       "1  rolando2    solano2  11041264"
      ]
     },
     "execution_count": 14,
     "metadata": {},
     "output_type": "execute_result"
    }
   ],
   "source": [
    "# Mostrar el DataFrame combinado\n",
    "data3"
   ]
  },
  {
   "cell_type": "code",
   "execution_count": 15,
   "id": "6427bd8a",
   "metadata": {},
   "outputs": [],
   "source": [
    "# Crear un DataFrame adicional con datos geográficos asociados a las cédulas\n",
    "data5 = pd.DataFrame({'cedula': ['11041260', '11041261', '11041263', '11041266'],\n",
    " \t'Ciudad': ['Guayaquil', 'Cuenca', 'Quito', 'Loja'],\n",
    "\t'Provincia': ['Guayas', 'Azuay', 'Pichincha', 'Loja']})"
   ]
  },
  {
   "cell_type": "code",
   "execution_count": 16,
   "id": "b4dc28b1",
   "metadata": {},
   "outputs": [
    {
     "data": {
      "text/html": [
       "<div>\n",
       "<style scoped>\n",
       "    .dataframe tbody tr th:only-of-type {\n",
       "        vertical-align: middle;\n",
       "    }\n",
       "\n",
       "    .dataframe tbody tr th {\n",
       "        vertical-align: top;\n",
       "    }\n",
       "\n",
       "    .dataframe thead th {\n",
       "        text-align: right;\n",
       "    }\n",
       "</style>\n",
       "<table border=\"1\" class=\"dataframe\">\n",
       "  <thead>\n",
       "    <tr style=\"text-align: right;\">\n",
       "      <th></th>\n",
       "      <th>cedula</th>\n",
       "      <th>Ciudad</th>\n",
       "      <th>Provincia</th>\n",
       "    </tr>\n",
       "  </thead>\n",
       "  <tbody>\n",
       "    <tr>\n",
       "      <th>0</th>\n",
       "      <td>11041260</td>\n",
       "      <td>Guayaquil</td>\n",
       "      <td>Guayas</td>\n",
       "    </tr>\n",
       "    <tr>\n",
       "      <th>1</th>\n",
       "      <td>11041261</td>\n",
       "      <td>Cuenca</td>\n",
       "      <td>Azuay</td>\n",
       "    </tr>\n",
       "    <tr>\n",
       "      <th>2</th>\n",
       "      <td>11041263</td>\n",
       "      <td>Quito</td>\n",
       "      <td>Pichincha</td>\n",
       "    </tr>\n",
       "    <tr>\n",
       "      <th>3</th>\n",
       "      <td>11041266</td>\n",
       "      <td>Loja</td>\n",
       "      <td>Loja</td>\n",
       "    </tr>\n",
       "  </tbody>\n",
       "</table>\n",
       "</div>"
      ],
      "text/plain": [
       "     cedula     Ciudad  Provincia\n",
       "0  11041260  Guayaquil     Guayas\n",
       "1  11041261     Cuenca      Azuay\n",
       "2  11041263      Quito  Pichincha\n",
       "3  11041266       Loja       Loja"
      ]
     },
     "execution_count": 16,
     "metadata": {},
     "output_type": "execute_result"
    }
   ],
   "source": [
    "# Mostrar el DataFrame con ubicación\n",
    "data5"
   ]
  },
  {
   "cell_type": "code",
   "execution_count": 17,
   "id": "737428b8",
   "metadata": {},
   "outputs": [],
   "source": [
    "# Fusionar los DataFrames por la columna 'cedula'\n",
    "result = pd.merge(data3, data5, on='cedula')"
   ]
  },
  {
   "cell_type": "code",
   "execution_count": 18,
   "id": "bb5b3d74",
   "metadata": {},
   "outputs": [
    {
     "data": {
      "text/html": [
       "<div>\n",
       "<style scoped>\n",
       "    .dataframe tbody tr th:only-of-type {\n",
       "        vertical-align: middle;\n",
       "    }\n",
       "\n",
       "    .dataframe tbody tr th {\n",
       "        vertical-align: top;\n",
       "    }\n",
       "\n",
       "    .dataframe thead th {\n",
       "        text-align: right;\n",
       "    }\n",
       "</style>\n",
       "<table border=\"1\" class=\"dataframe\">\n",
       "  <thead>\n",
       "    <tr style=\"text-align: right;\">\n",
       "      <th></th>\n",
       "      <th>nombres</th>\n",
       "      <th>apellidos</th>\n",
       "      <th>cedula</th>\n",
       "      <th>Ciudad</th>\n",
       "      <th>Provincia</th>\n",
       "    </tr>\n",
       "  </thead>\n",
       "  <tbody>\n",
       "    <tr>\n",
       "      <th>0</th>\n",
       "      <td>rene</td>\n",
       "      <td>elizalde</td>\n",
       "      <td>11041260</td>\n",
       "      <td>Guayaquil</td>\n",
       "      <td>Guayas</td>\n",
       "    </tr>\n",
       "    <tr>\n",
       "      <th>1</th>\n",
       "      <td>rolando</td>\n",
       "      <td>solano</td>\n",
       "      <td>11041261</td>\n",
       "      <td>Cuenca</td>\n",
       "      <td>Azuay</td>\n",
       "    </tr>\n",
       "    <tr>\n",
       "      <th>2</th>\n",
       "      <td>rene2</td>\n",
       "      <td>elizalde2</td>\n",
       "      <td>11041263</td>\n",
       "      <td>Quito</td>\n",
       "      <td>Pichincha</td>\n",
       "    </tr>\n",
       "  </tbody>\n",
       "</table>\n",
       "</div>"
      ],
      "text/plain": [
       "   nombres  apellidos    cedula     Ciudad  Provincia\n",
       "0     rene   elizalde  11041260  Guayaquil     Guayas\n",
       "1  rolando     solano  11041261     Cuenca      Azuay\n",
       "2    rene2  elizalde2  11041263      Quito  Pichincha"
      ]
     },
     "execution_count": 18,
     "metadata": {},
     "output_type": "execute_result"
    }
   ],
   "source": [
    "# Mostrar el resultado de la fusión\n",
    "result"
   ]
  },
  {
   "cell_type": "code",
   "execution_count": 19,
   "id": "9a74ac99",
   "metadata": {},
   "outputs": [
    {
     "data": {
      "text/html": [
       "<div>\n",
       "<style scoped>\n",
       "    .dataframe tbody tr th:only-of-type {\n",
       "        vertical-align: middle;\n",
       "    }\n",
       "\n",
       "    .dataframe tbody tr th {\n",
       "        vertical-align: top;\n",
       "    }\n",
       "\n",
       "    .dataframe thead th {\n",
       "        text-align: right;\n",
       "    }\n",
       "</style>\n",
       "<table border=\"1\" class=\"dataframe\">\n",
       "  <thead>\n",
       "    <tr style=\"text-align: right;\">\n",
       "      <th></th>\n",
       "      <th>cedula</th>\n",
       "      <th>Ciudad</th>\n",
       "      <th>Provincia</th>\n",
       "    </tr>\n",
       "  </thead>\n",
       "  <tbody>\n",
       "    <tr>\n",
       "      <th>0</th>\n",
       "      <td>11041260</td>\n",
       "      <td>Guayaquil</td>\n",
       "      <td>Guayas</td>\n",
       "    </tr>\n",
       "    <tr>\n",
       "      <th>1</th>\n",
       "      <td>11041261</td>\n",
       "      <td>Cuenca</td>\n",
       "      <td>Azuay</td>\n",
       "    </tr>\n",
       "    <tr>\n",
       "      <th>2</th>\n",
       "      <td>11041263</td>\n",
       "      <td>Quito</td>\n",
       "      <td>Pichincha</td>\n",
       "    </tr>\n",
       "  </tbody>\n",
       "</table>\n",
       "</div>"
      ],
      "text/plain": [
       "     cedula     Ciudad  Provincia\n",
       "0  11041260  Guayaquil     Guayas\n",
       "1  11041261     Cuenca      Azuay\n",
       "2  11041263      Quito  Pichincha"
      ]
     },
     "execution_count": 19,
     "metadata": {},
     "output_type": "execute_result"
    }
   ],
   "source": [
    "# Crear un nuevo DataFrame geográfico (más reducido que data5)\n",
    "data6 = pd.DataFrame({'cedula': ['11041260', '11041261', '11041263'],\n",
    " \t'Ciudad': ['Guayaquil', 'Cuenca', 'Quito'],\n",
    "\t'Provincia': ['Guayas', 'Azuay', 'Pichincha']})\n",
    "data6"
   ]
  }
 ],
 "metadata": {
  "kernelspec": {
   "display_name": "Python 3 (ipykernel)",
   "language": "python",
   "name": "python3"
  },
  "language_info": {
   "codemirror_mode": {
    "name": "ipython",
    "version": 3
   },
   "file_extension": ".py",
   "mimetype": "text/x-python",
   "name": "python",
   "nbconvert_exporter": "python",
   "pygments_lexer": "ipython3",
   "version": "3.13.3"
  }
 },
 "nbformat": 4,
 "nbformat_minor": 5
}
